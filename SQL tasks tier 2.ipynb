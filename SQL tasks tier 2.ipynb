{
 "cells": [
  {
   "cell_type": "code",
   "execution_count": 4,
   "metadata": {},
   "outputs": [],
   "source": [
    "from sqlalchemy import create_engine\n",
    "import pandas as pd"
   ]
  },
  {
   "cell_type": "code",
   "execution_count": 14,
   "metadata": {},
   "outputs": [],
   "source": [
    "engine = create_engine('sqlite:///sqlite_db_pythonsqlite.db')"
   ]
  },
  {
   "cell_type": "code",
   "execution_count": 15,
   "metadata": {},
   "outputs": [
    {
     "name": "stdout",
     "output_type": "stream",
     "text": [
      "['Bookings', 'Facilities', 'Members']\n"
     ]
    }
   ],
   "source": [
    "table_names = engine.table_names()\n",
    "print(table_names)"
   ]
  },
  {
   "cell_type": "markdown",
   "metadata": {},
   "source": [
    "TEST "
   ]
  },
  {
   "cell_type": "code",
   "execution_count": 18,
   "metadata": {},
   "outputs": [
    {
     "name": "stdout",
     "output_type": "stream",
     "text": [
      "   bookid  facid  memid            starttime  slots\n",
      "0       0      3      1  2012-07-03 11:00:00      2\n",
      "1       1      4      1  2012-07-03 08:00:00      2\n",
      "2       2      6      0  2012-07-03 18:00:00      2\n",
      "3       3      7      1  2012-07-03 19:00:00      2\n",
      "4       4      8      1  2012-07-03 10:00:00      1\n"
     ]
    }
   ],
   "source": [
    "Bookings = pd.read_sql_query('SELECT * FROM Bookings', engine)\n",
    "print(Bookings.head())"
   ]
  },
  {
   "cell_type": "code",
   "execution_count": 19,
   "metadata": {},
   "outputs": [
    {
     "name": "stdout",
     "output_type": "stream",
     "text": [
      "   facid             name  membercost  guestcost  initialoutlay  \\\n",
      "0      0   Tennis Court 1         5.0       25.0          10000   \n",
      "1      1   Tennis Court 2         5.0       25.0           8000   \n",
      "2      2  Badminton Court         0.0       15.5           4000   \n",
      "3      3     Table Tennis         0.0        5.0            320   \n",
      "4      4   Massage Room 1         9.9       80.0           4000   \n",
      "\n",
      "   monthlymaintenance  \n",
      "0                 200  \n",
      "1                 200  \n",
      "2                  50  \n",
      "3                  10  \n",
      "4                3000  \n"
     ]
    }
   ],
   "source": [
    "Facilities = pd.read_sql_query('SELECT * FROM Facilities', engine)\n",
    "print(Facilities.head())"
   ]
  },
  {
   "cell_type": "code",
   "execution_count": 20,
   "metadata": {},
   "outputs": [
    {
     "name": "stdout",
     "output_type": "stream",
     "text": [
      "   memid   surname firstname                       address  zipcode  \\\n",
      "0      0     GUEST     GUEST                         GUEST        0   \n",
      "1      1     Smith    Darren    8 Bloomsbury Close, Boston     4321   \n",
      "2      2     Smith     Tracy  8 Bloomsbury Close, New York     4321   \n",
      "3      3    Rownam       Tim        23 Highway Way, Boston    23423   \n",
      "4      4  Joplette    Janice    20 Crossing Road, New York      234   \n",
      "\n",
      "        telephone recommendedby             joindate  \n",
      "0  (000) 000-0000                2012-07-01 00:00:00  \n",
      "1    555-555-5555                2012-07-02 12:02:05  \n",
      "2    555-555-5555                2012-07-02 12:08:23  \n",
      "3  (844) 693-0723                2012-07-03 09:32:15  \n",
      "4  (833) 942-4710             1  2012-07-03 10:25:05  \n"
     ]
    }
   ],
   "source": [
    "Members = pd.read_sql_query('SELECT * FROM Members', engine)\n",
    "print(Members.head())"
   ]
  },
  {
   "cell_type": "code",
   "execution_count": 21,
   "metadata": {},
   "outputs": [
    {
     "name": "stdout",
     "output_type": "stream",
     "text": [
      "            name  total_revenue\n",
      "0   Table Tennis            180\n",
      "1  Snooker Table            240\n",
      "2     Pool Table            270\n"
     ]
    }
   ],
   "source": [
    "q10 = pd.read_sql_query('''SELECT *\n",
    "FROM (SELECT name, SUM(amt_paid) AS total_revenue\n",
    "FROM (SELECT f.name, b.facid, b.bookid,\n",
    "(CASE\n",
    " \tWHEN b.memid = 0 THEN b.slots * f.guestcost\n",
    " \tELSE b.slots * f.membercost\n",
    " \tEND) AS amt_paid\n",
    "FROM Facilities AS f\n",
    "LEFT JOIN Bookings AS b\n",
    "\tON f.facid = b.facid) AS bf\n",
    "GROUP BY name) AS rev\n",
    "WHERE total_revenue < 1000\n",
    "ORDER BY total_revenue;''', engine)\n",
    "print(q10.head())"
   ]
  },
  {
   "cell_type": "code",
   "execution_count": 22,
   "metadata": {},
   "outputs": [
    {
     "name": "stdout",
     "output_type": "stream",
     "text": [
      "  mem_surname mem_firstname recommended_by_ID recommendedby_surname  \\\n",
      "0       Bader      Florence                 9              Stibbons   \n",
      "1       Baker       Timothy                13               Farrell   \n",
      "2       Baker          Anne                 9              Stibbons   \n",
      "3      Boothe           Tim                 3                Rownam   \n",
      "4     Butters        Gerald                 1                 Smith   \n",
      "\n",
      "  recommendedby_firstname  \n",
      "0                  Ponder  \n",
      "1                  Jemima  \n",
      "2                  Ponder  \n",
      "3                     Tim  \n",
      "4                  Darren  \n"
     ]
    }
   ],
   "source": [
    "q11 = pd.read_sql_query('''SELECT m1.surname AS mem_surname, m1.firstname AS mem_firstname, m1.recommendedby AS recommended_by_ID, (CASE WHEN m1.recommendedby > 0 THEN m2.surname END) AS recommendedby_surname, (CASE WHEN m1.recommendedby > 0 THEN m2.firstname END) AS recommendedby_firstname\n",
    "FROM Members AS m1\n",
    "LEFT JOIN Members AS m2\n",
    "\tON m1.recommendedby = m2.memid\n",
    "ORDER BY m1.surname, m2.firstname;''', engine)\n",
    "print(q11.head())"
   ]
  },
  {
   "cell_type": "code",
   "execution_count": 23,
   "metadata": {},
   "outputs": [
    {
     "name": "stdout",
     "output_type": "stream",
     "text": [
      "   facid             name  mem_usage\n",
      "0      0   Tennis Court 1        308\n",
      "1      1   Tennis Court 2        276\n",
      "2      2  Badminton Court        344\n",
      "3      3     Table Tennis        385\n",
      "4      4   Massage Room 1        421\n"
     ]
    }
   ],
   "source": [
    "q12 = pd.read_sql_query('''SELECT b.facid, f.name, COUNT(b.memid) AS mem_usage\n",
    "FROM (\n",
    "SELECT facid, memid\n",
    "FROM Bookings\n",
    "WHERE memid !=0\n",
    ") AS b\n",
    "LEFT JOIN Facilities AS f ON b.facid = f.facid\n",
    "GROUP BY b.facid;''', engine)\n",
    "print(q12.head())"
   ]
  },
  {
   "cell_type": "code",
   "execution_count": 26,
   "metadata": {},
   "outputs": [
    {
     "name": "stdout",
     "output_type": "stream",
     "text": [
      "  months  mem_usage\n",
      "0     07        480\n",
      "1     08       1168\n",
      "2     09       1512\n"
     ]
    }
   ],
   "source": [
    "q13 = pd.read_sql_query('''SELECT b.months, COUNT( b.memid ) AS mem_usage\n",
    "FROM (\n",
    "SELECT strftime('%m', starttime ) AS months, memid\n",
    "FROM Bookings\n",
    "WHERE memid !=0\n",
    ") AS b\n",
    "GROUP BY b.months;''', engine)\n",
    "print(q13.head())"
   ]
  }
 ],
 "metadata": {
  "kernelspec": {
   "display_name": "Python 3",
   "language": "python",
   "name": "python3"
  },
  "language_info": {
   "codemirror_mode": {
    "name": "ipython",
    "version": 3
   },
   "file_extension": ".py",
   "mimetype": "text/x-python",
   "name": "python",
   "nbconvert_exporter": "python",
   "pygments_lexer": "ipython3",
   "version": "3.8.5"
  }
 },
 "nbformat": 4,
 "nbformat_minor": 4
}
